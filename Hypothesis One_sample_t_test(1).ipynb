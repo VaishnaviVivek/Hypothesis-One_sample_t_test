{
 "cells": [
  {
   "cell_type": "code",
   "execution_count": 1,
   "metadata": {},
   "outputs": [],
   "source": [
    "#A company claims that on an average it takes only 40 hours to process\n",
    "#any purchase order. Based on the data given, validate the claim? Data\n",
    "#given in PO_Processing.csv"
   ]
  },
  {
   "cell_type": "code",
   "execution_count": 2,
   "metadata": {},
   "outputs": [],
   "source": [
    "import pandas as pd\n",
    "import math \n",
    "from scipy import stats as mystats"
   ]
  },
  {
   "cell_type": "code",
   "execution_count": 3,
   "metadata": {},
   "outputs": [
    {
     "name": "stdout",
     "output_type": "stream",
     "text": [
      "    Processing_Time\n",
      "0                49\n",
      "1                46\n",
      "2                56\n",
      "3                56\n",
      "4                68\n",
      "..              ...\n",
      "95               36\n",
      "96               37\n",
      "97               12\n",
      "98               42\n",
      "99               72\n",
      "\n",
      "[100 rows x 1 columns]\n"
     ]
    }
   ],
   "source": [
    "myData=pd.read_csv(\"PO_Processing.csv\")\n",
    "print(myData)"
   ]
  },
  {
   "cell_type": "code",
   "execution_count": 4,
   "metadata": {},
   "outputs": [
    {
     "name": "stdout",
     "output_type": "stream",
     "text": [
      "0     49\n",
      "1     46\n",
      "2     56\n",
      "3     56\n",
      "4     68\n",
      "      ..\n",
      "95    36\n",
      "96    37\n",
      "97    12\n",
      "98    42\n",
      "99    72\n",
      "Name: Processing_Time, Length: 100, dtype: int64\n"
     ]
    }
   ],
   "source": [
    "PT=myData.Processing_Time\n",
    "print(PT)"
   ]
  },
  {
   "cell_type": "code",
   "execution_count": 5,
   "metadata": {},
   "outputs": [],
   "source": [
    "\n",
    "    \n",
    "def fun(xbar,specific_value,SD,sq_root_n):\n",
    "    Test_Statistic=(xbar-specific_value)/(SD/sq_root_n)\n",
    "    \n",
    "    pv=mystats.ttest_1samp(PT,40)\n",
    "    pval=pv.pvalue\n",
    "    print(\"Test Statistic=\" ,Test_Statistic)\n",
    "    print(\"P_Value=\" ,pval)\n",
    "    if pval < 0.05:\n",
    "        print(\"Conclusion is Null Hypothesis H0 rejected \")\n",
    "    else:\n",
    "        print(\"Conclusion is Null Hypothesis  accepted\")\n",
    "    \n",
    "    \n"
   ]
  },
  {
   "cell_type": "code",
   "execution_count": 6,
   "metadata": {},
   "outputs": [
    {
     "name": "stdout",
     "output_type": "stream",
     "text": [
      "xbar= 49.0\n",
      "Test Statistic= 3.7031497788267194\n",
      "P_Value= 0.0003505232879117331\n",
      "Conclusion is Null Hypothesis H0 rejected \n"
     ]
    }
   ],
   "source": [
    "xbar=PT.mean()\n",
    "print(\"xbar=\",xbar)\n",
    "specific_value=40\n",
    "SD=PT.std()\n",
    "sq_root_n=math.sqrt(PT.count())\n",
    "fun(xbar,specific_value,SD,sq_root_n)\n"
   ]
  },
  {
   "cell_type": "code",
   "execution_count": null,
   "metadata": {},
   "outputs": [],
   "source": []
  }
 ],
 "metadata": {
  "kernelspec": {
   "display_name": "Python 3",
   "language": "python",
   "name": "python3"
  },
  "language_info": {
   "codemirror_mode": {
    "name": "ipython",
    "version": 3
   },
   "file_extension": ".py",
   "mimetype": "text/x-python",
   "name": "python",
   "nbconvert_exporter": "python",
   "pygments_lexer": "ipython3",
   "version": "3.8.3"
  }
 },
 "nbformat": 4,
 "nbformat_minor": 4
}
