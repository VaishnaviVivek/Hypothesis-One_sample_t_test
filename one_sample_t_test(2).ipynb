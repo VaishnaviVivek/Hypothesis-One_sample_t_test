{
 "cells": [
  {
   "cell_type": "code",
   "execution_count": 1,
   "metadata": {},
   "outputs": [],
   "source": [
    "#A computer manufacturing company claims that on an average it will\n",
    "#respond to any complaint logged by the customer from anywhere in\n",
    "#the world in 24hours. Based on the data, validate the claim? Data is\n",
    "#given in Complaint_Response_Time.csv\n"
   ]
  },
  {
   "cell_type": "code",
   "execution_count": 2,
   "metadata": {},
   "outputs": [],
   "source": [
    "import pandas as pd\n",
    "import math \n",
    "from scipy import stats as mystats"
   ]
  },
  {
   "cell_type": "code",
   "execution_count": 3,
   "metadata": {},
   "outputs": [
    {
     "name": "stdout",
     "output_type": "stream",
     "text": [
      "    Response_Time\n",
      "0              24\n",
      "1              31\n",
      "2              29\n",
      "3              26\n",
      "4              28\n",
      "5              26\n",
      "6              29\n",
      "7              29\n",
      "8              27\n",
      "9              31\n",
      "10             25\n",
      "11             29\n",
      "12             29\n",
      "13             25\n",
      "14             26\n",
      "15             26\n",
      "16             27\n",
      "17             24\n",
      "18             23\n",
      "19             27\n",
      "20             28\n",
      "21             27\n",
      "22             23\n",
      "23             27\n",
      "24             23\n",
      "25             25\n",
      "26             27\n",
      "27             26\n",
      "28             28\n",
      "29             27\n"
     ]
    }
   ],
   "source": [
    "myData=pd.read_csv(\"Complaint_Response_Time.csv\")\n",
    "print(myData)"
   ]
  },
  {
   "cell_type": "code",
   "execution_count": 4,
   "metadata": {},
   "outputs": [
    {
     "name": "stdout",
     "output_type": "stream",
     "text": [
      "0     24\n",
      "1     31\n",
      "2     29\n",
      "3     26\n",
      "4     28\n",
      "5     26\n",
      "6     29\n",
      "7     29\n",
      "8     27\n",
      "9     31\n",
      "10    25\n",
      "11    29\n",
      "12    29\n",
      "13    25\n",
      "14    26\n",
      "15    26\n",
      "16    27\n",
      "17    24\n",
      "18    23\n",
      "19    27\n",
      "20    28\n",
      "21    27\n",
      "22    23\n",
      "23    27\n",
      "24    23\n",
      "25    25\n",
      "26    27\n",
      "27    26\n",
      "28    28\n",
      "29    27\n",
      "Name: Response_Time, dtype: int64\n"
     ]
    }
   ],
   "source": [
    "RT=myData.Response_Time\n",
    "print(RT)"
   ]
  },
  {
   "cell_type": "code",
   "execution_count": 5,
   "metadata": {},
   "outputs": [],
   "source": [
    "def fun(xbar,specific_value,SD,sq_root_n):\n",
    "    Test_Statistic=(xbar-specific_value)/(SD/sq_root_n)\n",
    "    \n",
    "    pv=mystats.ttest_1samp(RT,specific_value)\n",
    "    pval=pv.pvalue\n",
    "    print(\"Test Statistic=\" ,Test_Statistic)\n",
    "    print(\"P_Value=\" ,pval)\n",
    "    if pval < 0.05:\n",
    "        print(\"Conclusion is Null Hypothesis H0 rejected \")\n",
    "    else:\n",
    "        print(\"Conclusion is Hypothesis is accepted\")"
   ]
  },
  {
   "cell_type": "code",
   "execution_count": 6,
   "metadata": {},
   "outputs": [
    {
     "name": "stdout",
     "output_type": "stream",
     "text": [
      "xbar= 26.733333333333334\n",
      "Test Statistic= 6.916649423974789\n",
      "P_Value= 1.3350896696104558e-07\n",
      "Conclusion is Null Hypothesis H0 rejected \n"
     ]
    }
   ],
   "source": [
    "xbar=RT.mean()\n",
    "print(\"xbar=\",xbar)\n",
    "specific_value=24\n",
    "SD=RT.std()\n",
    "sq_root_n=math.sqrt(RT.count())\n",
    "fun(xbar,specific_value,SD,sq_root_n)\n"
   ]
  },
  {
   "cell_type": "code",
   "execution_count": null,
   "metadata": {},
   "outputs": [],
   "source": []
  },
  {
   "cell_type": "code",
   "execution_count": null,
   "metadata": {},
   "outputs": [],
   "source": []
  }
 ],
 "metadata": {
  "kernelspec": {
   "display_name": "Python 3",
   "language": "python",
   "name": "python3"
  },
  "language_info": {
   "codemirror_mode": {
    "name": "ipython",
    "version": 3
   },
   "file_extension": ".py",
   "mimetype": "text/x-python",
   "name": "python",
   "nbconvert_exporter": "python",
   "pygments_lexer": "ipython3",
   "version": "3.8.3"
  }
 },
 "nbformat": 4,
 "nbformat_minor": 4
}
